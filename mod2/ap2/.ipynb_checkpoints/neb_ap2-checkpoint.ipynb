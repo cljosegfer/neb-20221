{
 "cells": [
  {
   "cell_type": "markdown",
   "id": "8d635c62",
   "metadata": {},
   "source": [
    "José Geraldo Fernandes - 2022667276\n",
    "\n",
    "Mecanismos de Inferência Nebulosa"
   ]
  },
  {
   "cell_type": "code",
   "execution_count": 1,
   "id": "a212c2b1",
   "metadata": {},
   "outputs": [],
   "source": [
    "import simpful as sf\n",
    "import numpy as np\n",
    "import matplotlib.pyplot as plt"
   ]
  },
  {
   "cell_type": "markdown",
   "id": "960c90b2",
   "metadata": {},
   "source": [
    "# 1) Aproximação de Funções"
   ]
  },
  {
   "cell_type": "markdown",
   "id": "6d961e83",
   "metadata": {},
   "source": [
    "## Função Quadrática\n",
    "* $y = x^2,\\ x \\in [-2,\\ 2]$"
   ]
  },
  {
   "cell_type": "markdown",
   "id": "d16c614d",
   "metadata": {},
   "source": [
    "### Mamdani"
   ]
  },
  {
   "cell_type": "code",
   "execution_count": 2,
   "id": "1ea8191c",
   "metadata": {},
   "outputs": [
    {
     "name": "stdout",
     "output_type": "stream",
     "text": [
      "  ____  __  _  _  ____  ____  _  _  __   \n",
      " / ___)(  )( \\/ )(  _ \\(  __)/ )( \\(  ) v2.6.3 \n",
      " \\___ \\ )( / \\/ \\ ) __/ ) _) ) \\/ (/ (_/\\ \n",
      " (____/(__)\\_)(_/(__)  (__)  \\____/\\____/\n",
      "\n",
      " Created by Marco S. Nobile (m.s.nobile@tue.nl)\n",
      " and Simone Spolaor (simone.spolaor@unimib.it)\n",
      "\n"
     ]
    }
   ],
   "source": [
    "FS = sf.FuzzySystem()"
   ]
  },
  {
   "cell_type": "markdown",
   "id": "73b54969",
   "metadata": {},
   "source": [
    "Antecedentes"
   ]
  },
  {
   "cell_type": "code",
   "execution_count": 14,
   "id": "b2db3afb",
   "metadata": {},
   "outputs": [],
   "source": [
    "S_1 = sf.FuzzySet(function = sf.Triangular_MF(a = -3, b = -2, c = -1), term = 'doisn')\n",
    "S_2 = sf.FuzzySet(function = sf.Triangular_MF(a = -2, b = -1, c = -0.3), term = 'umn')\n",
    "S_3 = sf.FuzzySet(function = sf.Triangular_MF(a = -1, b = 0, c = 1), term = 'zero')\n",
    "S_4 = sf.FuzzySet(function = sf.Triangular_MF(a = 0.3, b = 1, c = 2), term = 'ump')\n",
    "S_5 = sf.FuzzySet(function = sf.Triangular_MF(a = 1, b = 2, c = 3), term = 'doisp')\n",
    "FS.add_linguistic_variable('x', sf.LinguisticVariable([S_1, S_2, S_3, S_4, S_5], universe_of_discourse = [-2, 2]))"
   ]
  },
  {
   "cell_type": "markdown",
   "id": "2f1d6d63",
   "metadata": {},
   "source": [
    "Consequentes"
   ]
  },
  {
   "cell_type": "code",
   "execution_count": 15,
   "id": "2239420c",
   "metadata": {},
   "outputs": [],
   "source": [
    "T_1 = sf.FuzzySet(function = sf.Triangular_MF(a = -0.1, b = 0, c = 0.1), term = 'ZERO')\n",
    "T_2 = sf.FuzzySet(function = sf.Triangular_MF(a = 0.9, b = 1, c = 1.1), term = 'UM')\n",
    "T_3 = sf.FuzzySet(function = sf.Triangular_MF(a = 3.9, b = 4, c = 4.1), term = 'QUATRO')\n",
    "FS.add_linguistic_variable('y', sf.LinguisticVariable([T_1, T_2, T_3], universe_of_discourse = [0, 4]))"
   ]
  },
  {
   "cell_type": "markdown",
   "id": "e6191faa",
   "metadata": {},
   "source": [
    "Regras"
   ]
  },
  {
   "cell_type": "code",
   "execution_count": 16,
   "id": "15d980a7",
   "metadata": {},
   "outputs": [],
   "source": [
    "RULE1 = 'IF (x IS doisn) THEN (y IS QUATRO)'\n",
    "RULE2 = 'IF (x IS umn) THEN (y IS UM)'\n",
    "RULE3 = 'IF (x IS zero) THEN (y IS ZERO)'\n",
    "RULE4 = 'IF (x IS ump) THEN (y IS UM)'\n",
    "RULE5 = 'IF (x IS doisp) THEN (y IS QUATRO)'\n",
    "FS.add_rules([RULE1, RULE2, RULE3, RULE4, RULE5])"
   ]
  },
  {
   "cell_type": "markdown",
   "id": "e5be2252",
   "metadata": {},
   "source": [
    "Síntese"
   ]
  },
  {
   "cell_type": "code",
   "execution_count": 17,
   "id": "541b7927",
   "metadata": {},
   "outputs": [],
   "source": [
    "N = 100\n",
    "X = np.linspace(start = -2, stop = 2, num = N)\n",
    "y = X ** 2\n",
    "yhat = []\n",
    "for x in X:\n",
    "    FS.set_variable('x', x)\n",
    "    yhat.append(FS.inference().get('y'))"
   ]
  },
  {
   "cell_type": "code",
   "execution_count": 18,
   "id": "5b57af41",
   "metadata": {},
   "outputs": [
    {
     "name": "stdout",
     "output_type": "stream",
     "text": [
      "0.025515842576160516\n"
     ]
    },
    {
     "data": {
      "image/png": "[encoded data removed]",
      "text/plain": [
       "<Figure size 432x288 with 1 Axes>"
      ]
     },
     "metadata": {
      "needs_background": "light"
     },
     "output_type": "display_data"
    }
   ],
   "source": [
    "plt.plot(X, yhat, label = r'$\\hat{y}$')\n",
    "plt.plot(X, y, label = r'$y$')\n",
    "plt.legend()\n",
    "mse = np.sqrt(np.sum((y - yhat) ** 2)) / len(yhat)\n",
    "print(mse)"
   ]
  },
  {
   "cell_type": "markdown",
   "id": "8a285a69",
   "metadata": {},
   "source": [
    "### Sugeno linear"
   ]
  },
  {
   "cell_type": "code",
   "execution_count": 19,
   "id": "3d627d65",
   "metadata": {},
   "outputs": [
    {
     "name": "stdout",
     "output_type": "stream",
     "text": [
      "  ____  __  _  _  ____  ____  _  _  __   \n",
      " / ___)(  )( \\/ )(  _ \\(  __)/ )( \\(  ) v2.6.3 \n",
      " \\___ \\ )( / \\/ \\ ) __/ ) _) ) \\/ (/ (_/\\ \n",
      " (____/(__)\\_)(_/(__)  (__)  \\____/\\____/\n",
      "\n",
      " Created by Marco S. Nobile (m.s.nobile@tue.nl)\n",
      " and Simone Spolaor (simone.spolaor@unimib.it)\n",
      "\n"
     ]
    }
   ],
   "source": [
    "FS = sf.FuzzySystem()"
   ]
  },
  {
   "cell_type": "markdown",
   "id": "1dfe0fbc",
   "metadata": {},
   "source": [
    "Antecedentes"
   ]
  },
  {
   "cell_type": "code",
   "execution_count": 20,
   "id": "be590109",
   "metadata": {},
   "outputs": [],
   "source": [
    "S_1 = sf.FuzzySet(function = sf.Gaussian_MF(mu = -2, sigma = 2), term = 'negativo')\n",
    "S_2 = sf.FuzzySet(function = sf.Gaussian_MF(mu = 2, sigma = 2), term = 'positivo')\n",
    "FS.add_linguistic_variable('x', sf.LinguisticVariable([S_1, S_2], universe_of_discourse = [-2, 2]))"
   ]
  },
  {
   "cell_type": "markdown",
   "id": "65fcaf62",
   "metadata": {},
   "source": [
    "Consequentes"
   ]
  },
  {
   "cell_type": "code",
   "execution_count": 21,
   "id": "ce03fd06",
   "metadata": {},
   "outputs": [
    {
     "name": "stdout",
     "output_type": "stream",
     "text": [
      " * Detected Sugeno model type\n"
     ]
    }
   ],
   "source": [
    "FS.set_output_function('decrescente', '-2*x')\n",
    "FS.set_output_function('crescente', '2*x')"
   ]
  },
  {
   "cell_type": "markdown",
   "id": "f36c30c5",
   "metadata": {},
   "source": [
    "Regras"
   ]
  },
  {
   "cell_type": "code",
   "execution_count": 22,
   "id": "e6c11cad",
   "metadata": {},
   "outputs": [],
   "source": [
    "RULE1 = 'IF (x IS negativo) THEN (y IS decrescente)'\n",
    "RULE2 = 'IF (x IS positivo) THEN (y IS crescente)'\n",
    "FS.add_rules([RULE1, RULE2])"
   ]
  },
  {
   "cell_type": "markdown",
   "id": "0c8765f1",
   "metadata": {},
   "source": [
    "Síntese"
   ]
  },
  {
   "cell_type": "code",
   "execution_count": 23,
   "id": "9d7866fe",
   "metadata": {},
   "outputs": [],
   "source": [
    "N = 100\n",
    "X = np.linspace(start = -2, stop = 2, num = N)\n",
    "y = X ** 2\n",
    "yhat = []\n",
    "for x in X:\n",
    "    FS.set_variable('x', x)\n",
    "    yhat.append(FS.Sugeno_inference(['y']).get('y'))"
   ]
  },
  {
   "cell_type": "code",
   "execution_count": 24,
   "id": "ed982df1",
   "metadata": {},
   "outputs": [
    {
     "name": "stdout",
     "output_type": "stream",
     "text": [
      "0.03482340454322335\n"
     ]
    },
    {
     "data": {
      "image/png": "[encoded data removed]",
      "text/plain": [
       "<Figure size 432x288 with 1 Axes>"
      ]
     },
     "metadata": {
      "needs_background": "light"
     },
     "output_type": "display_data"
    }
   ],
   "source": [
    "plt.plot(X, yhat, label = r'$\\hat{y}$')\n",
    "plt.plot(X, y, label = r'$y$')\n",
    "plt.legend()\n",
    "mse = np.sqrt(np.sum((y - yhat) ** 2)) / len(yhat)\n",
    "print(mse)"
   ]
  },
  {
   "cell_type": "markdown",
   "id": "a0b259e4",
   "metadata": {},
   "source": [
    "### Sugeno constante"
   ]
  },
  {
   "cell_type": "code",
   "execution_count": 25,
   "id": "69faeaa2",
   "metadata": {},
   "outputs": [
    {
     "name": "stdout",
     "output_type": "stream",
     "text": [
      "  ____  __  _  _  ____  ____  _  _  __   \n",
      " / ___)(  )( \\/ )(  _ \\(  __)/ )( \\(  ) v2.6.3 \n",
      " \\___ \\ )( / \\/ \\ ) __/ ) _) ) \\/ (/ (_/\\ \n",
      " (____/(__)\\_)(_/(__)  (__)  \\____/\\____/\n",
      "\n",
      " Created by Marco S. Nobile (m.s.nobile@tue.nl)\n",
      " and Simone Spolaor (simone.spolaor@unimib.it)\n",
      "\n"
     ]
    }
   ],
   "source": [
    "FS = sf.FuzzySystem()"
   ]
  },
  {
   "cell_type": "markdown",
   "id": "4df96f3d",
   "metadata": {},
   "source": [
    "Antecedentes"
   ]
  },
  {
   "cell_type": "code",
   "execution_count": 26,
   "id": "adfa72ac",
   "metadata": {},
   "outputs": [],
   "source": [
    "S_1 = sf.FuzzySet(function = sf.Triangular_MF(a = -3, b = -2, c = -1), term = 'doisn')\n",
    "S_2 = sf.FuzzySet(function = sf.Triangular_MF(a = -2, b = -1, c = 0), term = 'umn')\n",
    "S_3 = sf.FuzzySet(function = sf.Triangular_MF(a = -1, b = 0, c = 1), term = 'zero')\n",
    "S_4 = sf.FuzzySet(function = sf.Triangular_MF(a = 0, b = 1, c = 2), term = 'ump')\n",
    "S_5 = sf.FuzzySet(function = sf.Triangular_MF(a = 1, b = 2, c = 3), term = 'doisp')\n",
    "FS.add_linguistic_variable('x', sf.LinguisticVariable([S_1, S_2, S_3, S_4, S_5], universe_of_discourse = [-2, 2]))"
   ]
  },
  {
   "cell_type": "markdown",
   "id": "9caa55c4",
   "metadata": {},
   "source": [
    "Consequentes"
   ]
  },
  {
   "cell_type": "code",
   "execution_count": 27,
   "id": "19a7e48c",
   "metadata": {},
   "outputs": [
    {
     "name": "stdout",
     "output_type": "stream",
     "text": [
      " * Detected Sugeno model type\n"
     ]
    }
   ],
   "source": [
    "FS.set_crisp_output_value('ZERO', 0)\n",
    "FS.set_crisp_output_value('UM', 1)\n",
    "FS.set_crisp_output_value('QUATRO', 4)"
   ]
  },
  {
   "cell_type": "markdown",
   "id": "2c1c3636",
   "metadata": {},
   "source": [
    "Regras"
   ]
  },
  {
   "cell_type": "code",
   "execution_count": 28,
   "id": "0a7462d0",
   "metadata": {},
   "outputs": [],
   "source": [
    "RULE1 = 'IF (x IS doisn) THEN (y IS QUATRO)'\n",
    "RULE2 = 'IF (x IS umn) THEN (y IS UM)'\n",
    "RULE3 = 'IF (x IS zero) THEN (y IS ZERO)'\n",
    "RULE4 = 'IF (x IS ump) THEN (y IS UM)'\n",
    "RULE5 = 'IF (x IS doisp) THEN (y IS QUATRO)'\n",
    "FS.add_rules([RULE1, RULE2, RULE3, RULE4, RULE5])"
   ]
  },
  {
   "cell_type": "markdown",
   "id": "e231fd32",
   "metadata": {},
   "source": [
    "Síntese"
   ]
  },
  {
   "cell_type": "code",
   "execution_count": 29,
   "id": "e258d97f",
   "metadata": {},
   "outputs": [],
   "source": [
    "N = 100\n",
    "X = np.linspace(start = -2, stop = 2, num = N)\n",
    "y = X ** 2\n",
    "yhat = []\n",
    "for x in X:\n",
    "    FS.set_variable('x', x)\n",
    "    yhat.append(FS.Sugeno_inference(['y']).get('y'))"
   ]
  },
  {
   "cell_type": "code",
   "execution_count": 30,
   "id": "660597f8",
   "metadata": {},
   "outputs": [
    {
     "name": "stdout",
     "output_type": "stream",
     "text": [
      "0.01816590203002958\n"
     ]
    },
    {
     "data": {
      "image/png": "[encoded data removed]",
      "text/plain": [
       "<Figure size 432x288 with 1 Axes>"
      ]
     },
     "metadata": {
      "needs_background": "light"
     },
     "output_type": "display_data"
    }
   ],
   "source": [
    "plt.plot(X, yhat, label = r'$\\hat{y}$')\n",
    "plt.plot(X, y, label = r'$y$')\n",
    "plt.legend()\n",
    "mse = np.sqrt(np.sum((y - yhat) ** 2)) / len(yhat)\n",
    "print(mse)"
   ]
  },
  {
   "cell_type": "markdown",
   "id": "fb9da0b6",
   "metadata": {},
   "source": [
    "## Função Sinc\n",
    "* $y = \\text{sinc}(x),\\ x \\in [0,\\ 2\\pi]$"
   ]
  },
  {
   "cell_type": "markdown",
   "id": "88b8b15f",
   "metadata": {},
   "source": [
    "### Mamdani"
   ]
  },
  {
   "cell_type": "code",
   "execution_count": 31,
   "id": "7933b2e5",
   "metadata": {},
   "outputs": [
    {
     "name": "stdout",
     "output_type": "stream",
     "text": [
      "  ____  __  _  _  ____  ____  _  _  __   \n",
      " / ___)(  )( \\/ )(  _ \\(  __)/ )( \\(  ) v2.6.3 \n",
      " \\___ \\ )( / \\/ \\ ) __/ ) _) ) \\/ (/ (_/\\ \n",
      " (____/(__)\\_)(_/(__)  (__)  \\____/\\____/\n",
      "\n",
      " Created by Marco S. Nobile (m.s.nobile@tue.nl)\n",
      " and Simone Spolaor (simone.spolaor@unimib.it)\n",
      "\n"
     ]
    }
   ],
   "source": [
    "FS = sf.FuzzySystem()"
   ]
  },
  {
   "cell_type": "markdown",
   "id": "8b1f58ee",
   "metadata": {},
   "source": [
    "Antecedentes"
   ]
  },
  {
   "cell_type": "code",
   "execution_count": 42,
   "id": "896f9f0c",
   "metadata": {},
   "outputs": [],
   "source": [
    "S_1 = sf.FuzzySet(function = sf.Triangular_MF(a = -1, b = 0, c = 4), term = 'maximo')\n",
    "S_2 = sf.FuzzySet(function = sf.Triangular_MF(a = 0, b = 4.5, c = 8), term = 'minimo')\n",
    "FS.add_linguistic_variable('x', sf.LinguisticVariable([S_1, S_2], universe_of_discourse = [0, 2*np.pi]))"
   ]
  },
  {
   "cell_type": "markdown",
   "id": "ffcdbd9c",
   "metadata": {},
   "source": [
    "Consequentes"
   ]
  },
  {
   "cell_type": "code",
   "execution_count": 43,
   "id": "667d451e",
   "metadata": {},
   "outputs": [],
   "source": [
    "T_1 = sf.FuzzySet(function = sf.Triangular_MF(a = -0.62, b = -0.22, c = -0.12), term = 'MINIMO')\n",
    "T_2 = sf.FuzzySet(function = sf.Triangular_MF(a = 0.9, b = 1, c = 1.1), term = 'MAXIMO')\n",
    "FS.add_linguistic_variable('y', sf.LinguisticVariable([T_1, T_2], universe_of_discourse = [-0.22, 1]))"
   ]
  },
  {
   "cell_type": "markdown",
   "id": "8147ed8f",
   "metadata": {},
   "source": [
    "Regras"
   ]
  },
  {
   "cell_type": "code",
   "execution_count": 44,
   "id": "690f0bf3",
   "metadata": {},
   "outputs": [],
   "source": [
    "RULE1 = 'IF (x IS maximo) THEN (y IS MAXIMO)'\n",
    "RULE2 = 'IF (x IS minimo) THEN (y IS MINIMO)'\n",
    "FS.add_rules([RULE1, RULE2])"
   ]
  },
  {
   "cell_type": "markdown",
   "id": "be514481",
   "metadata": {},
   "source": [
    "Síntese"
   ]
  },
  {
   "cell_type": "code",
   "execution_count": 45,
   "id": "243a962e",
   "metadata": {},
   "outputs": [],
   "source": [
    "N = 100\n",
    "X = np.linspace(start = 1e-4, stop = 2 * np.pi, num = N)\n",
    "y = np.sin(X) / X\n",
    "yhat = []\n",
    "for x in X:\n",
    "    FS.set_variable('x', x)\n",
    "    yhat.append(FS.inference().get('y'))"
   ]
  },
  {
   "cell_type": "code",
   "execution_count": 46,
   "id": "3ea76547",
   "metadata": {},
   "outputs": [
    {
     "name": "stdout",
     "output_type": "stream",
     "text": [
      "0.011994798107316655\n"
     ]
    },
    {
     "data": {
      "image/png": "[encoded data removed]",
      "text/plain": [
       "<Figure size 432x288 with 1 Axes>"
      ]
     },
     "metadata": {
      "needs_background": "light"
     },
     "output_type": "display_data"
    }
   ],
   "source": [
    "plt.plot(X, yhat, label = r'$\\hat{y}$')\n",
    "plt.plot(X, y, label = r'$y$')\n",
    "plt.legend()\n",
    "mse = np.sqrt(np.sum((y - yhat) ** 2)) / len(yhat)\n",
    "print(mse)"
   ]
  },
  {
   "cell_type": "markdown",
   "id": "d7ef0800",
   "metadata": {},
   "source": [
    "### Sugeno linear"
   ]
  },
  {
   "cell_type": "code",
   "execution_count": 47,
   "id": "dd4c0da0",
   "metadata": {},
   "outputs": [
    {
     "name": "stdout",
     "output_type": "stream",
     "text": [
      "  ____  __  _  _  ____  ____  _  _  __   \n",
      " / ___)(  )( \\/ )(  _ \\(  __)/ )( \\(  ) v2.6.3 \n",
      " \\___ \\ )( / \\/ \\ ) __/ ) _) ) \\/ (/ (_/\\ \n",
      " (____/(__)\\_)(_/(__)  (__)  \\____/\\____/\n",
      "\n",
      " Created by Marco S. Nobile (m.s.nobile@tue.nl)\n",
      " and Simone Spolaor (simone.spolaor@unimib.it)\n",
      "\n"
     ]
    }
   ],
   "source": [
    "FS = sf.FuzzySystem()"
   ]
  },
  {
   "cell_type": "markdown",
   "id": "e0216bdd",
   "metadata": {},
   "source": [
    "Antecedentes"
   ]
  },
  {
   "cell_type": "code",
   "execution_count": 48,
   "id": "0d097ff5",
   "metadata": {},
   "outputs": [],
   "source": [
    "S_1 = sf.FuzzySet(function = sf.Triangular_MF(a = 0, b = 1.5, c = 5.2), term = 'queda')\n",
    "S_2 = sf.FuzzySet(function = sf.Triangular_MF(a = 1.5, b = 5.2, c = 2*np.pi), term = 'subida')\n",
    "FS.add_linguistic_variable('x', sf.LinguisticVariable([S_1, S_2], universe_of_discourse = [0, 2*np.pi]))"
   ]
  },
  {
   "cell_type": "markdown",
   "id": "e2c3ec2e",
   "metadata": {},
   "source": [
    "Consequentes"
   ]
  },
  {
   "cell_type": "code",
   "execution_count": 49,
   "id": "45781b83",
   "metadata": {},
   "outputs": [
    {
     "name": "stdout",
     "output_type": "stream",
     "text": [
      " * Detected Sugeno model type\n"
     ]
    }
   ],
   "source": [
    "FS.set_output_function('decrescente', '-0.4*x+1.26')\n",
    "FS.set_output_function('crescente', '0.12*x-0.79')"
   ]
  },
  {
   "cell_type": "markdown",
   "id": "c0e6112e",
   "metadata": {},
   "source": [
    "Regras"
   ]
  },
  {
   "cell_type": "code",
   "execution_count": 50,
   "id": "21c40337",
   "metadata": {},
   "outputs": [],
   "source": [
    "RULE1 = 'IF (x IS queda) THEN (y IS decrescente)'\n",
    "RULE2 = 'IF (x IS subida) THEN (y IS crescente)'\n",
    "FS.add_rules([RULE1, RULE2])"
   ]
  },
  {
   "cell_type": "markdown",
   "id": "41307f03",
   "metadata": {},
   "source": [
    "Síntese"
   ]
  },
  {
   "cell_type": "code",
   "execution_count": 51,
   "id": "af54f20e",
   "metadata": {},
   "outputs": [],
   "source": [
    "N = 100\n",
    "X = np.linspace(start = 1e-4, stop = 2*np.pi-1e-4, num = N)\n",
    "y = np.sin(X) / X\n",
    "yhat = []\n",
    "for x in X:\n",
    "    FS.set_variable('x', x)\n",
    "    yhat.append(FS.Sugeno_inference(['y']).get('y'))"
   ]
  },
  {
   "cell_type": "code",
   "execution_count": 52,
   "id": "03eefa89",
   "metadata": {},
   "outputs": [
    {
     "name": "stdout",
     "output_type": "stream",
     "text": [
      "0.011865047511214984\n"
     ]
    },
    {
     "data": {
      "image/png": "[encoded data removed]",
      "text/plain": [
       "<Figure size 432x288 with 1 Axes>"
      ]
     },
     "metadata": {
      "needs_background": "light"
     },
     "output_type": "display_data"
    }
   ],
   "source": [
    "plt.plot(X, yhat, label = r'$\\hat{y}$')\n",
    "plt.plot(X, y, label = r'$y$')\n",
    "plt.legend()\n",
    "mse = np.sqrt(np.sum((y - yhat) ** 2)) / len(yhat)\n",
    "print(mse)"
   ]
  },
  {
   "cell_type": "markdown",
   "id": "636ea06e",
   "metadata": {},
   "source": [
    "### Sugeno constante"
   ]
  },
  {
   "cell_type": "code",
   "execution_count": 53,
   "id": "d0e4ff02",
   "metadata": {},
   "outputs": [
    {
     "name": "stdout",
     "output_type": "stream",
     "text": [
      "  ____  __  _  _  ____  ____  _  _  __   \n",
      " / ___)(  )( \\/ )(  _ \\(  __)/ )( \\(  ) v2.6.3 \n",
      " \\___ \\ )( / \\/ \\ ) __/ ) _) ) \\/ (/ (_/\\ \n",
      " (____/(__)\\_)(_/(__)  (__)  \\____/\\____/\n",
      "\n",
      " Created by Marco S. Nobile (m.s.nobile@tue.nl)\n",
      " and Simone Spolaor (simone.spolaor@unimib.it)\n",
      "\n"
     ]
    }
   ],
   "source": [
    "FS = sf.FuzzySystem()"
   ]
  },
  {
   "cell_type": "markdown",
   "id": "40c57bb0",
   "metadata": {},
   "source": [
    "Antecedentes"
   ]
  },
  {
   "cell_type": "code",
   "execution_count": 54,
   "id": "3f4c679b",
   "metadata": {},
   "outputs": [],
   "source": [
    "S_1 = sf.FuzzySet(function = sf.Triangular_MF(a = -1, b = 0, c = np.pi), term = 'maximo')\n",
    "S_2 = sf.FuzzySet(function = sf.Triangular_MF(a = 0, b = np.pi, c = 4.5), term = 'rooti')\n",
    "S_3 = sf.FuzzySet(function = sf.Triangular_MF(a = np.pi, b = 4.5, c = 2*np.pi), term = 'minimo')\n",
    "S_4 = sf.FuzzySet(function = sf.Triangular_MF(a = 4.5, b = 2*np.pi, c = 2*np.pi+1), term = 'roots')\n",
    "FS.add_linguistic_variable('x', sf.LinguisticVariable([S_1, S_2, S_3, S_4], universe_of_discourse = [0, 2*np.pi]))"
   ]
  },
  {
   "cell_type": "markdown",
   "id": "1679ff5d",
   "metadata": {},
   "source": [
    "Consequentes"
   ]
  },
  {
   "cell_type": "code",
   "execution_count": 55,
   "id": "3553fce2",
   "metadata": {},
   "outputs": [
    {
     "name": "stdout",
     "output_type": "stream",
     "text": [
      " * Detected Sugeno model type\n"
     ]
    }
   ],
   "source": [
    "FS.set_crisp_output_value('MAXIMO', 1)\n",
    "FS.set_crisp_output_value('ZERO', 0)\n",
    "FS.set_crisp_output_value('MINIMO', -0.22)"
   ]
  },
  {
   "cell_type": "markdown",
   "id": "d85037e6",
   "metadata": {},
   "source": [
    "Regras"
   ]
  },
  {
   "cell_type": "code",
   "execution_count": 56,
   "id": "843f5bff",
   "metadata": {},
   "outputs": [],
   "source": [
    "RULE1 = 'IF (x IS maximo) THEN (y IS MAXIMO)'\n",
    "RULE2 = 'IF (x IS rooti) THEN (y IS ZERO)'\n",
    "RULE3 = 'IF (x IS minimo) THEN (y IS MINIMO)'\n",
    "RULE4 = 'IF (x IS roots) THEN (y IS ZERO)'\n",
    "FS.add_rules([RULE1, RULE2, RULE3, RULE4])"
   ]
  },
  {
   "cell_type": "markdown",
   "id": "6d46b7b5",
   "metadata": {},
   "source": [
    "Síntese"
   ]
  },
  {
   "cell_type": "code",
   "execution_count": 57,
   "id": "3ffb2af9",
   "metadata": {},
   "outputs": [],
   "source": [
    "N = 100\n",
    "X = np.linspace(start = 1e-4, stop = 2 * np.pi, num = N)\n",
    "y = np.sin(X) / X\n",
    "yhat = []\n",
    "for x in X:\n",
    "    FS.set_variable('x', x)\n",
    "    yhat.append(FS.Sugeno_inference().get('y'))"
   ]
  },
  {
   "cell_type": "code",
   "execution_count": 58,
   "id": "a7065f28",
   "metadata": {},
   "outputs": [
    {
     "name": "stdout",
     "output_type": "stream",
     "text": [
      "0.007732502485169644\n"
     ]
    },
    {
     "data": {
      "image/png": "[encoded data removed]",
      "text/plain": [
       "<Figure size 432x288 with 1 Axes>"
      ]
     },
     "metadata": {
      "needs_background": "light"
     },
     "output_type": "display_data"
    }
   ],
   "source": [
    "plt.plot(X, yhat, label = r'$\\hat{y}$')\n",
    "plt.plot(X, y, label = r'$y$')\n",
    "plt.legend()\n",
    "mse = np.sqrt(np.sum((y - yhat) ** 2)) / len(yhat)\n",
    "print(mse)"
   ]
  },
  {
   "cell_type": "markdown",
   "id": "7215a713",
   "metadata": {},
   "source": [
    "# 2) Classificação de Padrões"
   ]
  },
  {
   "cell_type": "code",
   "execution_count": 59,
   "id": "505972c5",
   "metadata": {},
   "outputs": [
    {
     "name": "stdout",
     "output_type": "stream",
     "text": [
      "  ____  __  _  _  ____  ____  _  _  __   \n",
      " / ___)(  )( \\/ )(  _ \\(  __)/ )( \\(  ) v2.6.3 \n",
      " \\___ \\ )( / \\/ \\ ) __/ ) _) ) \\/ (/ (_/\\ \n",
      " (____/(__)\\_)(_/(__)  (__)  \\____/\\____/\n",
      "\n",
      " Created by Marco S. Nobile (m.s.nobile@tue.nl)\n",
      " and Simone Spolaor (simone.spolaor@unimib.it)\n",
      "\n"
     ]
    }
   ],
   "source": [
    "FS = sf.FuzzySystem()"
   ]
  },
  {
   "cell_type": "markdown",
   "id": "0f8224e8",
   "metadata": {},
   "source": [
    "Antecedentes"
   ]
  },
  {
   "cell_type": "code",
   "execution_count": 60,
   "id": "9c616cf4",
   "metadata": {},
   "outputs": [],
   "source": [
    "S_1 = sf.FuzzySet(function = sf.Gaussian_MF(mu = 0, sigma = 0.2), term = 'xazul')\n",
    "S_2 = sf.FuzzySet(function = sf.Gaussian_MF(mu = -1, sigma = 0.2), term = 'xpreto')\n",
    "S_3 = sf.FuzzySet(function = sf.Gaussian_MF(mu = 1, sigma = 0.2), term = 'xlaranja')\n",
    "S_4 = sf.FuzzySet(function = sf.Gaussian_MF(mu = 1, sigma = 0.2), term = 'xroxo')\n",
    "S_5 = sf.FuzzySet(function = sf.Gaussian_MF(mu = -1, sigma = 0.2), term = 'xamarelo')\n",
    "FS.add_linguistic_variable('x', sf.LinguisticVariable([S_1, S_2, S_3, S_4, S_5], universe_of_discourse = [-2, 2]))"
   ]
  },
  {
   "cell_type": "code",
   "execution_count": 61,
   "id": "74d16730",
   "metadata": {},
   "outputs": [],
   "source": [
    "T_1 = sf.FuzzySet(function = sf.Gaussian_MF(mu = 0, sigma = 0.2), term = 'yazul')\n",
    "T_2 = sf.FuzzySet(function = sf.Gaussian_MF(mu = 1, sigma = 0.2), term = 'ypreto')\n",
    "T_3 = sf.FuzzySet(function = sf.Gaussian_MF(mu = 1, sigma = 0.2), term = 'ylaranja')\n",
    "T_4 = sf.FuzzySet(function = sf.Gaussian_MF(mu = -1, sigma = 0.2), term = 'yroxo')\n",
    "T_5 = sf.FuzzySet(function = sf.Gaussian_MF(mu = -1, sigma = 0.2), term = 'yamarelo')\n",
    "FS.add_linguistic_variable('y', sf.LinguisticVariable([T_1, T_2, T_3, T_4, T_5], universe_of_discourse = [-2, 2]))"
   ]
  },
  {
   "cell_type": "markdown",
   "id": "9c5cd61e",
   "metadata": {},
   "source": [
    "Consequentes"
   ]
  },
  {
   "cell_type": "code",
   "execution_count": 62,
   "id": "6bbe960d",
   "metadata": {},
   "outputs": [
    {
     "name": "stdout",
     "output_type": "stream",
     "text": [
      " * Detected Sugeno model type\n"
     ]
    }
   ],
   "source": [
    "FS.set_crisp_output_value('AZUL', 1)\n",
    "FS.set_crisp_output_value('PRETO', 2)\n",
    "FS.set_crisp_output_value('LARANJA', 3)\n",
    "FS.set_crisp_output_value('ROXO', 4)\n",
    "FS.set_crisp_output_value('AMARELO', 5)"
   ]
  },
  {
   "cell_type": "markdown",
   "id": "8a8eb299",
   "metadata": {},
   "source": [
    "Regras"
   ]
  },
  {
   "cell_type": "code",
   "execution_count": 63,
   "id": "853fd72b",
   "metadata": {},
   "outputs": [],
   "source": [
    "RULE1 = 'IF (x IS xazul) AND (y IS yazul) THEN (z IS AZUL)'\n",
    "RULE2 = 'IF (x IS xpreto) AND (y IS ypreto) THEN (z IS PRETO)'\n",
    "RULE3 = 'IF (x IS xlaranja) AND (y IS ylaranja) THEN (z IS LARANJA)'\n",
    "RULE4 = 'IF (x IS xroxo) AND (y IS yroxo) THEN (z IS ROXO)'\n",
    "RULE5 = 'IF (x IS xamarelo) AND (y IS yamarelo) THEN (z IS AMARELO)'\n",
    "FS.add_rules([RULE1, RULE2, RULE3, RULE4, RULE5])"
   ]
  },
  {
   "cell_type": "markdown",
   "id": "076af5cc",
   "metadata": {},
   "source": []
  }
 ],
 "metadata": {
  "kernelspec": {
   "display_name": "Python 3 (ipykernel)",
   "language": "python",
   "name": "python3"
  },
  "language_info": {
   "codemirror_mode": {
    "name": "ipython",
    "version": 3
   },
   "file_extension": ".py",
   "mimetype": "text/x-python",
   "name": "python",
   "nbconvert_exporter": "python",
   "pygments_lexer": "ipython3",
   "version": "3.9.5"
  }
 },
 "nbformat": 4,
 "nbformat_minor": 5
}
