{
 "cells": [
  {
   "cell_type": "markdown",
   "id": "f2addbb3",
   "metadata": {},
   "source": [
    "Bibliotecas:"
   ]
  },
  {
   "cell_type": "code",
   "execution_count": 1,
   "id": "42db90f8",
   "metadata": {},
   "outputs": [],
   "source": [
    "import simpful as sf\n",
    "import numpy as np\n",
    "import matplotlib.pyplot as plt"
   ]
  },
  {
   "cell_type": "code",
   "execution_count": 2,
   "id": "454057e5",
   "metadata": {},
   "outputs": [
    {
     "name": "stdout",
     "output_type": "stream",
     "text": [
      "  ____  __  _  _  ____  ____  _  _  __   \n",
      " / ___)(  )( \\/ )(  _ \\(  __)/ )( \\(  ) v2.6.3 \n",
      " \\___ \\ )( / \\/ \\ ) __/ ) _) ) \\/ (/ (_/\\ \n",
      " (____/(__)\\_)(_/(__)  (__)  \\____/\\____/\n",
      "\n",
      " Created by Marco S. Nobile (m.s.nobile@tue.nl)\n",
      " and Simone Spolaor (simone.spolaor@unimib.it)\n",
      "\n"
     ]
    }
   ],
   "source": [
    "FS = sf.FuzzySystem()"
   ]
  },
  {
   "cell_type": "markdown",
   "id": "4be752a0",
   "metadata": {},
   "source": [
    "Antecedentes:"
   ]
  },
  {
   "cell_type": "code",
   "execution_count": 3,
   "id": "24e62afe",
   "metadata": {},
   "outputs": [],
   "source": [
    "sd = 1.5\n",
    "S_1 = sf.FuzzySet(function = sf.Gaussian_MF(mu = -2, sigma = sd), term = 'menos_dois')\n",
    "S_2 = sf.FuzzySet(function = sf.Gaussian_MF(mu = 2, sigma = sd), term = 'mais_dois')\n",
    "FS.add_linguistic_variable('x', sf.LinguisticVariable([S_1, S_2], universe_of_discourse = [-2, 2]))"
   ]
  },
  {
   "cell_type": "markdown",
   "id": "70a8eaf1",
   "metadata": {},
   "source": [
    "Consequentes:"
   ]
  },
  {
   "cell_type": "code",
   "execution_count": 4,
   "id": "ad7d0ffd",
   "metadata": {},
   "outputs": [
    {
     "name": "stdout",
     "output_type": "stream",
     "text": [
      " * Detected Sugeno model type\n"
     ]
    }
   ],
   "source": [
    "FS.set_crisp_output_value('MENOS_UM', -1)\n",
    "FS.set_crisp_output_value('MAIS_UM', 1)"
   ]
  },
  {
   "cell_type": "markdown",
   "id": "fa703660",
   "metadata": {},
   "source": [
    "Regras:"
   ]
  },
  {
   "cell_type": "code",
   "execution_count": 5,
   "id": "16324319",
   "metadata": {},
   "outputs": [],
   "source": [
    "RULE1 = 'IF (x IS menos_dois) THEN (y IS MENOS_UM)'\n",
    "RULE2 = 'IF (x IS mais_dois) THEN (y IS MAIS_UM)'\n",
    "FS.add_rules([RULE1, RULE2])"
   ]
  },
  {
   "cell_type": "markdown",
   "id": "206a68fe",
   "metadata": {},
   "source": [
    "Avaliação:"
   ]
  },
  {
   "cell_type": "code",
   "execution_count": 6,
   "id": "e02cb879",
   "metadata": {},
   "outputs": [
    {
     "name": "stdout",
     "output_type": "stream",
     "text": [
      "0.0038730259748776413\n"
     ]
    },
    {
     "data": {
      "image/png": "[encoded data removed]",
      "text/plain": [
       "<Figure size 432x288 with 1 Axes>"
      ]
     },
     "metadata": {
      "needs_background": "light"
     },
     "output_type": "display_data"
    }
   ],
   "source": [
    "N = 100\n",
    "X = np.linspace(start = -2, stop = 2, num = N)\n",
    "y = np.tanh(X)\n",
    "yhat = []\n",
    "for x in X:\n",
    "    FS.set_variable('x', x)\n",
    "    yhat.append(FS.Sugeno_inference(['y']).get('y'))\n",
    "\n",
    "plt.plot(X, yhat)\n",
    "plt.plot(X, y)\n",
    "mse = np.sqrt(np.sum((y - yhat) ** 2)) / len(yhat)\n",
    "print(mse)"
   ]
  },
  {
   "cell_type": "code",
   "execution_count": null,
   "id": "b562899e",
   "metadata": {},
   "outputs": [],
   "source": []
  }
 ],
 "metadata": {
  "kernelspec": {
   "display_name": "Python 3 (ipykernel)",
   "language": "python",
   "name": "python3"
  },
  "language_info": {
   "codemirror_mode": {
    "name": "ipython",
    "version": 3
   },
   "file_extension": ".py",
   "mimetype": "text/x-python",
   "name": "python",
   "nbconvert_exporter": "python",
   "pygments_lexer": "ipython3",
   "version": "3.9.5"
  }
 },
 "nbformat": 4,
 "nbformat_minor": 5
}
